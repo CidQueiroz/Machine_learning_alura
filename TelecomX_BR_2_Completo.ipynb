{
 "cells": [
  {
   "cell_type": "markdown",
   "metadata": {},
   "source": [
    "# Análise de Churn da Telecom X: Do Dado à Predição"
   ]
  },
  {
   "cell_type": "markdown",
   "metadata": {},
   "source": [
    "## 1. Sobre o Desafio\n",
    "\n",
    "A Telecom X, após uma análise exploratória de dados bem-sucedida, está avançando para a próxima fase: a construção de um modelo de Machine Learning para prever o *churn* (evasão) de clientes. Como Analista de Machine Learning Júnior, a missão é desenvolver um pipeline completo, desde a preparação dos dados até o treinamento e avaliação de modelos preditivos.\n",
    "\n",
    "### Objetivos\n",
    "\n",
    "*   **Preparar os dados**: Realizar a limpeza, tratamento de valores ausentes, *encoding* de variáveis categóricas e normalização das variáveis numéricas.\n",
    "*   **Engenharia de Features**: Criar e selecionar as variáveis mais relevantes para o modelo.\n",
    "*   **Treinar e Avaliar Modelos**: Implementar e comparar pelo menos dois modelos de classificação (Regressão Logística e Random Forest).\n",
    "*   **Interpretar Resultados**: Analisar a performance dos modelos e a importância das features.\n",
    "*   **Conclusão Estratégica**: Fornecer insights e recomendações para a Telecom X com base nos resultados."
   ]
  },
  {
   "cell_type": "markdown",
   "metadata": {},
   "source": [
    "## 2. Etapa 1: Preparação dos Dados"
   ]
  },
  {
   "cell_type": "markdown",
   "metadata": {},
   "source": [
    "Nesta primeira etapa, o foco é carregar os dados brutos do arquivo JSON, realizar a limpeza e a transformação inicial para um formato tabular (CSV) que seja mais adequado para as próximas fases de análise e modelagem."
   ]
  },
  {
   "cell_type": "code",
   "execution_count": null,
   "metadata": {},
   "outputs": [],
   "source": [
    "import pandas as pd\n",
    "import json\n",
    "import os\n",
    "\n",
    "# --- Constantes ---",